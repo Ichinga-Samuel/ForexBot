{
 "cells": [
  {
   "cell_type": "code",
   "execution_count": 1,
   "id": "699adeb9-7c9c-41f4-9dbb-e37512cdbeb7",
   "metadata": {},
   "outputs": [],
   "source": [
    "import asyncio\n",
    "import numpy as np\n",
    "import pandas as pd\n",
    "from pandas import DataFrame, Series\n",
    "import pandas_ta as ta\n",
    "import matplotlib.pyplot as plt\n",
    "from aiomql import ForexSymbol, Account, Symbol, Candles, Candles, Ticks, Tick, OrderType, Positions, History, Order, Config, TimeFrame\n",
    "from pprint import pprint as pp"
   ]
  },
  {
   "cell_type": "code",
   "execution_count": 2,
   "id": "31233295-9065-4bc9-9809-0a48d6e63603",
   "metadata": {},
   "outputs": [
    {
     "data": {
      "text/plain": [
       "True"
      ]
     },
     "execution_count": 2,
     "metadata": {},
     "output_type": "execute_result"
    }
   ],
   "source": [
    "acc = Account()\n",
    "await acc.sign_in()"
   ]
  },
  {
   "cell_type": "code",
   "execution_count": 3,
   "id": "1792a075-4cb0-4f50-886e-f2a379a7d880",
   "metadata": {},
   "outputs": [
    {
     "data": {
      "text/plain": [
       "True"
      ]
     },
     "execution_count": 3,
     "metadata": {},
     "output_type": "execute_result"
    }
   ],
   "source": [
    "sym = ForexSymbol(name='Volatility 10 (1s) Index')\n",
    "await sym.init()"
   ]
  },
  {
   "cell_type": "code",
   "execution_count": 6,
   "id": "28751462-a786-450f-b8c0-cf2eb0eb0a52",
   "metadata": {},
   "outputs": [
    {
     "name": "stdout",
     "output_type": "stream",
     "text": [
      "717     True\n",
      "718    False\n",
      "719    False\n",
      "Name: pxn, dtype: bool 717    False\n",
      "718     True\n",
      "719    False\n",
      "Name: nxp, dtype: bool\n"
     ]
    }
   ],
   "source": [
    "candles = await sym.copy_rates_from_pos(count=720, timeframe=TimeFrame.H1)\n",
    "candles.ta.adx(append=True)\n",
    "candles.rename(**{\"ADX_14\": \"adx\", \"DMP_14\": \"dmp\", \"DMN_14\": \"dmn\"})\n",
    "candles['pxn'] = candles.ta_lib.cross(candles.dmp, candles.dmn, asint=False)\n",
    "candles['nxp'] = candles.ta_lib.cross(candles.dmn, candles.dmp, asint=False)\n"
   ]
  },
  {
   "cell_type": "code",
   "execution_count": 9,
   "id": "eac48e21-3049-4d12-a21b-44a0d88b82e8",
   "metadata": {},
   "outputs": [
    {
     "name": "stdout",
     "output_type": "stream",
     "text": [
      "717     True\n",
      "718    False\n",
      "719    False\n",
      "Name: pxn, dtype: bool\n"
     ]
    }
   ],
   "source": [
    "print(candles.pxn.iloc[-3:])"
   ]
  },
  {
   "cell_type": "code",
   "execution_count": null,
   "id": "2a493fe5-e388-4fdb-b65d-d9e0827d0e26",
   "metadata": {},
   "outputs": [],
   "source": []
  }
 ],
 "metadata": {
  "kernelspec": {
   "display_name": "Python 3 (ipykernel)",
   "language": "python",
   "name": "python3"
  },
  "language_info": {
   "codemirror_mode": {
    "name": "ipython",
    "version": 3
   },
   "file_extension": ".py",
   "mimetype": "text/x-python",
   "name": "python",
   "nbconvert_exporter": "python",
   "pygments_lexer": "ipython3",
   "version": "3.11.6"
  }
 },
 "nbformat": 4,
 "nbformat_minor": 5
}
