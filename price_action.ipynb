{
 "cells": [
  {
   "cell_type": "code",
   "execution_count": 4,
   "id": "699adeb9-7c9c-41f4-9dbb-e37512cdbeb7",
   "metadata": {},
   "source": [
    "import asyncio\n",
    "import numpy as np\n",
    "import pandas as pd\n",
    "from pandas import DataFrame, Series\n",
    "import pandas_ta as ta\n",
    "import matplotlib.pyplot as plt\n",
    "from aiomql import ForexSymbol, Account, Symbol, Candles, Candles, Ticks, Tick, OrderType, Positions, History, Order, Config, TimeFrame\n",
    "from pprint import pprint as pp"
   ],
   "outputs": []
  },
  {
   "cell_type": "code",
   "execution_count": 2,
   "id": "31233295-9065-4bc9-9809-0a48d6e63603",
   "metadata": {},
   "source": [
    "acc = Account()\n",
    "await acc.sign_in()"
   ],
   "outputs": []
  },
  {
   "cell_type": "code",
   "execution_count": 3,
   "id": "1792a075-4cb0-4f50-886e-f2a379a7d880",
   "metadata": {},
   "source": [
    "sym = ForexSymbol(name='Volatility 50 (1s) Index')\n",
    "await sym.init()"
   ],
   "outputs": []
  },
  {
   "cell_type": "code",
   "execution_count": 5,
   "id": "28751462-a786-450f-b8c0-cf2eb0eb0a52",
   "metadata": {},
   "source": [
    "pp(sym.dict)"
   ],
   "outputs": []
  },
  {
   "cell_type": "code",
   "execution_count": null,
   "id": "eac48e21-3049-4d12-a21b-44a0d88b82e8",
   "metadata": {},
   "source": [],
   "outputs": []
  }
 ],
 "metadata": {
  "kernelspec": {
   "display_name": "Python 3 (ipykernel)",
   "language": "python",
   "name": "python3"
  },
  "language_info": {
   "codemirror_mode": {
    "name": "ipython",
    "version": 3
   },
   "file_extension": ".py",
   "mimetype": "text/x-python",
   "name": "python",
   "nbconvert_exporter": "python",
   "pygments_lexer": "ipython3",
   "version": "3.11.6"
  }
 },
 "nbformat": 4,
 "nbformat_minor": 5
}
