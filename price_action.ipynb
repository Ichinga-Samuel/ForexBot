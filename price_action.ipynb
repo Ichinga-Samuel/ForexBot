{
 "cells": [
  {
   "cell_type": "code",
   "execution_count": 4,
   "id": "699adeb9-7c9c-41f4-9dbb-e37512cdbeb7",
   "metadata": {},
   "outputs": [],
   "source": [
    "import asyncio\n",
    "import numpy as np\n",
    "import pandas as pd\n",
    "from pandas import DataFrame, Series\n",
    "import pandas_ta as ta\n",
    "import matplotlib.pyplot as plt\n",
    "from aiomql import ForexSymbol, Account, Symbol, Candles, Candles, Ticks, Tick, OrderType, Positions, History, Order, Config, TimeFrame\n",
    "from pprint import pprint as pp"
   ]
  },
  {
   "cell_type": "code",
   "execution_count": 2,
   "id": "31233295-9065-4bc9-9809-0a48d6e63603",
   "metadata": {},
   "outputs": [
    {
     "data": {
      "text/plain": [
       "True"
      ]
     },
     "execution_count": 2,
     "metadata": {},
     "output_type": "execute_result"
    }
   ],
   "source": [
    "acc = Account()\n",
    "await acc.sign_in()"
   ]
  },
  {
   "cell_type": "code",
   "execution_count": 3,
   "id": "1792a075-4cb0-4f50-886e-f2a379a7d880",
   "metadata": {},
   "outputs": [
    {
     "data": {
      "text/plain": [
       "True"
      ]
     },
     "execution_count": 3,
     "metadata": {},
     "output_type": "execute_result"
    }
   ],
   "source": [
    "sym = ForexSymbol(name='Volatility 50 (1s) Index')\n",
    "await sym.init()"
   ]
  },
  {
   "cell_type": "code",
   "execution_count": 5,
   "id": "28751462-a786-450f-b8c0-cf2eb0eb0a52",
   "metadata": {},
   "outputs": [
    {
     "name": "stdout",
     "output_type": "stream",
     "text": [
      "{'account': Account(login=5463204, password=nwa0#anaEze, server=Deriv-Demo ... company=Deriv.com Limited),\n",
      " 'ask': 0.0,\n",
      " 'askhigh': 0.0,\n",
      " 'asklow': 0.0,\n",
      " 'bank': '',\n",
      " 'basis': '',\n",
      " 'bid': 0.0,\n",
      " 'bidhigh': 0.0,\n",
      " 'bidlow': 0.0,\n",
      " 'category': '',\n",
      " 'chart_mode': SYMBOL_CHART_MODE_BID,\n",
      " 'currency_base': 'USD',\n",
      " 'currency_margin': 'USD',\n",
      " 'currency_profit': 'USD',\n",
      " 'custom': False,\n",
      " 'description': 'Constant Volatility of 50% with a tick every 1 seconds',\n",
      " 'digits': 2,\n",
      " 'exchange': '',\n",
      " 'expiration_mode': 15,\n",
      " 'expiration_time': 0,\n",
      " 'filling_mode': 1,\n",
      " 'formula': '',\n",
      " 'isin': '',\n",
      " 'last': 0.0,\n",
      " 'lasthigh': 0.0,\n",
      " 'lastlow': 0.0,\n",
      " 'margin_hedged': 0.0,\n",
      " 'margin_hedged_use_leg': True,\n",
      " 'margin_initial': 0.0,\n",
      " 'margin_maintenance': 0.0,\n",
      " 'name': 'Volatility 50 (1s) Index',\n",
      " 'option_mode': SYMBOL_OPTION_MODE_EUROPEAN,\n",
      " 'option_right': SYMBOL_OPTION_RIGHT_CALL,\n",
      " 'option_strike': 0.0,\n",
      " 'order_gtc_mode': SYMBOL_ORDERS_GTC,\n",
      " 'order_mode': 127,\n",
      " 'page': '',\n",
      " 'path': 'Volatility Indices\\\\Volatility 50 (1s) Index',\n",
      " 'point': 0.01,\n",
      " 'price_change': 0.0,\n",
      " 'price_greeks_delta': 0.0,\n",
      " 'price_greeks_gamma': 0.0,\n",
      " 'price_greeks_omega': 0.0,\n",
      " 'price_greeks_rho': 0.0,\n",
      " 'price_greeks_theta': 0.0,\n",
      " 'price_greeks_vega': 0.0,\n",
      " 'price_sensitivity': 0.0,\n",
      " 'price_theoretical': 0.0,\n",
      " 'price_volatility': 0.0,\n",
      " 'select': True,\n",
      " 'session_aw': 0.0,\n",
      " 'session_buy_orders': 0,\n",
      " 'session_buy_orders_volume': 0.0,\n",
      " 'session_close': 0.0,\n",
      " 'session_deals': 0,\n",
      " 'session_interest': 0.0,\n",
      " 'session_open': 0.0,\n",
      " 'session_price_limit_max': 0.0,\n",
      " 'session_price_limit_min': 0.0,\n",
      " 'session_price_settlement': 0.0,\n",
      " 'session_sell_orders': 0,\n",
      " 'session_sell_orders_volume': 0.0,\n",
      " 'session_turnover': 0.0,\n",
      " 'session_volume': 0.0,\n",
      " 'spread': 3412.0,\n",
      " 'spread_float': False,\n",
      " 'start_time': 0,\n",
      " 'swap_long': -5.0,\n",
      " 'swap_mode': SYMBOL_SWAP_MODE_INTEREST_CURRENT,\n",
      " 'swap_rollover3days': _SUNDAY,\n",
      " 'swap_short': -5.0,\n",
      " 'tick': Tick(Index=0, time=0, bid=0.0, ask=0.0, last=0.0, volume=0),\n",
      " 'ticks_bookdepth': 0,\n",
      " 'time': 0,\n",
      " 'trade_accrued_interest': 0.0,\n",
      " 'trade_calc_mode': SYMBOL_CALC_MODE_CFDLEVERAGE,\n",
      " 'trade_contract_size': 1.0,\n",
      " 'trade_exemode': SYMBOL_TRADE_EXECUTION_MARKET,\n",
      " 'trade_face_value': 0.0,\n",
      " 'trade_freeze_level': 0,\n",
      " 'trade_liquidity_rate': 0.0,\n",
      " 'trade_mode': SYMBOL_TRADE_MODE_FULL,\n",
      " 'trade_stops_level': 15000,\n",
      " 'trade_tick_size': 0.01,\n",
      " 'trade_tick_value': 0.01,\n",
      " 'trade_tick_value_loss': 0.01,\n",
      " 'trade_tick_value_profit': 0.01,\n",
      " 'visible': True,\n",
      " 'volume': 0.0,\n",
      " 'volume_limit': 6.0,\n",
      " 'volume_max': 1.0,\n",
      " 'volume_min': 0.005,\n",
      " 'volume_real': 0.0,\n",
      " 'volume_step': 0.001,\n",
      " 'volumehigh': 0.0,\n",
      " 'volumehigh_real': 0.0,\n",
      " 'volumelow': 0.0,\n",
      " 'volumelow_real': 0.0}\n"
     ]
    }
   ],
   "source": [
    "pp(sym.dict)"
   ]
  },
  {
   "cell_type": "code",
   "execution_count": null,
   "id": "eac48e21-3049-4d12-a21b-44a0d88b82e8",
   "metadata": {},
   "outputs": [],
   "source": []
  }
 ],
 "metadata": {
  "kernelspec": {
   "display_name": "Python 3 (ipykernel)",
   "language": "python",
   "name": "python3"
  },
  "language_info": {
   "codemirror_mode": {
    "name": "ipython",
    "version": 3
   },
   "file_extension": ".py",
   "mimetype": "text/x-python",
   "name": "python",
   "nbconvert_exporter": "python",
   "pygments_lexer": "ipython3",
   "version": "3.11.6"
  }
 },
 "nbformat": 4,
 "nbformat_minor": 5
}
